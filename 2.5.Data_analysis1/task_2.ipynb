{
 "cells": [
  {
   "cell_type": "code",
   "execution_count": 1,
   "metadata": {},
   "outputs": [],
   "source": [
    "import pandas as pd"
   ]
  },
  {
   "cell_type": "code",
   "execution_count": 48,
   "metadata": {},
   "outputs": [],
   "source": [
    "path = 'C:/Users/rk0f/Desktop/names/'\n",
    "\n",
    "def count_dynamics(years):\n",
    "    df_dict = {}\n",
    "    f_list = []\n",
    "    m_list = []\n",
    "    for year in years:\n",
    "        df = pd.read_csv(path+'yob'+str(year)+'.txt', names=['Name', 'Sex', 'Quantity'])\n",
    "        df = df.groupby('Sex').sum()\n",
    "        f_list.append(df['Quantity']['F'])\n",
    "        m_list.append(df['Quantity']['M'])\n",
    "    df_dict['F'] = f_list\n",
    "    df_dict['M'] = m_list\n",
    "    return df_dict"
   ]
  },
  {
   "cell_type": "code",
   "execution_count": 49,
   "metadata": {},
   "outputs": [
    {
     "data": {
      "text/plain": [
       "{'F': [299800, 1713151, 1815110], 'M': [150483, 1790549, 1962969]}"
      ]
     },
     "execution_count": 49,
     "metadata": {},
     "output_type": "execute_result"
    }
   ],
   "source": [
    "count_dynamics([1900, 1950, 2000])"
   ]
  },
  {
   "cell_type": "code",
   "execution_count": null,
   "metadata": {},
   "outputs": [],
   "source": []
  }
 ],
 "metadata": {
  "kernelspec": {
   "display_name": "Python 3",
   "language": "python",
   "name": "python3"
  },
  "language_info": {
   "codemirror_mode": {
    "name": "ipython",
    "version": 3
   },
   "file_extension": ".py",
   "mimetype": "text/x-python",
   "name": "python",
   "nbconvert_exporter": "python",
   "pygments_lexer": "ipython3",
   "version": "3.7.1"
  }
 },
 "nbformat": 4,
 "nbformat_minor": 2
}
